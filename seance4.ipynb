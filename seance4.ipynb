{
 "cells": [
  {
   "cell_type": "markdown",
   "metadata": {},
   "source": [
    "#Seance 4"
   ]
  },
  {
   "cell_type": "markdown",
   "metadata": {},
   "source": [
    "Ex 1: Racine quatrième \n",
    "\n",
    "Pour un nombre réel b positif, il existe un unique réel a positif tel que b^n = a. Ce réel est appelé la racine n-ième de b (ou racine n-ième principale de b).\n",
    "\n",
    "1. Donner la fonction python racine(,bn,e) qui donnée la racine n-eme de b avec une précision de e\n"
   ]
  },
  {
   "cell_type": "code",
   "execution_count": 2,
   "metadata": {},
   "outputs": [
    {
     "name": "stdout",
     "output_type": "stream",
     "text": [
      "2.0000000000000013\n"
     ]
    }
   ],
   "source": [
    "def racine(b,n,e):\n",
    "    r = e\n",
    "    while r**n < b:\n",
    "        r+=e\n",
    "    print(r)\n",
    "\n",
    "racine(16,4,0.01)"
   ]
  },
  {
   "cell_type": "markdown",
   "metadata": {},
   "source": [
    "Ex 2: Racine d'un polynome\n",
    "On appelle racine d'une polynome P une solution de l'équation (E): P(x)=0. \n",
    "\n",
    "On considère le trinome ax2+bx+c.\n",
    "\n",
    "Faire un algorithme pour trouver si il a des racines, combien, et calculer leur valeur. "
   ]
  },
  {
   "cell_type": "code",
   "execution_count": 11,
   "metadata": {},
   "outputs": [
    {
     "name": "stdout",
     "output_type": "stream",
     "text": [
      "Solutions de  0 x^2 + 1 x + 1 = 0\n"
     ]
    },
    {
     "ename": "NameError",
     "evalue": "name 'xpolynome' is not defined",
     "output_type": "error",
     "traceback": [
      "\u001b[1;31m---------------------------------------------------------------------------\u001b[0m",
      "\u001b[1;31mNameError\u001b[0m                                 Traceback (most recent call last)",
      "\u001b[1;32m<ipython-input-11-9ebf2f25606b>\u001b[0m in \u001b[0;36m<module>\u001b[1;34m()\u001b[0m\n\u001b[0;32m     30\u001b[0m         \u001b[0mprint\u001b[0m \u001b[1;33m(\u001b[0m\u001b[1;34m\"Aucune solution\"\u001b[0m\u001b[1;33m)\u001b[0m\u001b[1;33m\u001b[0m\u001b[0m\n\u001b[0;32m     31\u001b[0m \u001b[1;33m\u001b[0m\u001b[0m\n\u001b[1;32m---> 32\u001b[1;33m \u001b[0mprint\u001b[0m\u001b[1;33m(\u001b[0m\u001b[0mracine\u001b[0m\u001b[1;33m(\u001b[0m\u001b[1;36m0\u001b[0m\u001b[1;33m,\u001b[0m\u001b[1;36m1\u001b[0m\u001b[1;33m,\u001b[0m\u001b[1;36m1\u001b[0m\u001b[1;33m)\u001b[0m\u001b[1;33m)\u001b[0m\u001b[1;33m\u001b[0m\u001b[0m\n\u001b[0m",
      "\u001b[1;32m<ipython-input-11-9ebf2f25606b>\u001b[0m in \u001b[0;36mracine\u001b[1;34m(a, b, c)\u001b[0m\n\u001b[0;32m     14\u001b[0m         \u001b[1;32melse\u001b[0m \u001b[1;33m:\u001b[0m\u001b[1;33m\u001b[0m\u001b[0m\n\u001b[0;32m     15\u001b[0m             \u001b[0mx\u001b[0m \u001b[1;33m=\u001b[0m \u001b[1;33m(\u001b[0m\u001b[1;33m-\u001b[0m\u001b[0mc\u001b[0m \u001b[1;33m*\u001b[0m \u001b[1;36m1.0\u001b[0m\u001b[1;33m)\u001b[0m \u001b[1;33m/\u001b[0m \u001b[0mb\u001b[0m\u001b[1;33m\u001b[0m\u001b[0m\n\u001b[1;32m---> 16\u001b[1;33m             \u001b[0mprint\u001b[0m \u001b[1;33m(\u001b[0m\u001b[1;34m\"Une solution :\"\u001b[0m\u001b[1;33m,\u001b[0m \u001b[0mxpolynome\u001b[0m\u001b[1;33m(\u001b[0m\u001b[0ma\u001b[0m\u001b[1;33m,\u001b[0m \u001b[0mb\u001b[0m\u001b[1;33m,\u001b[0m \u001b[0mc\u001b[0m\u001b[1;33m,\u001b[0m \u001b[0mx\u001b[0m\u001b[1;33m)\u001b[0m\u001b[1;33m)\u001b[0m\u001b[1;33m\u001b[0m\u001b[0m\n\u001b[0m\u001b[0;32m     17\u001b[0m     \u001b[1;32melse\u001b[0m \u001b[1;33m:\u001b[0m\u001b[1;33m\u001b[0m\u001b[0m\n\u001b[0;32m     18\u001b[0m         \u001b[0md\u001b[0m \u001b[1;33m=\u001b[0m \u001b[0mb\u001b[0m \u001b[1;33m*\u001b[0m \u001b[0mb\u001b[0m \u001b[1;33m-\u001b[0m \u001b[1;36m4\u001b[0m \u001b[1;33m*\u001b[0m \u001b[0ma\u001b[0m \u001b[1;33m*\u001b[0m \u001b[0mc\u001b[0m\u001b[1;33m\u001b[0m\u001b[0m\n",
      "\u001b[1;31mNameError\u001b[0m: name 'xpolynome' is not defined"
     ]
    }
   ],
   "source": [
    "from math import sqrt\n",
    "\n",
    "def polynome(a, b, c, x):\n",
    "    print (\"En\", x, \":\", a * x * x + b * x + c)\n",
    "\n",
    "def racine(a, b, c):\n",
    "    print(\"Solutions de \", a, \"x^2 +\", b, \"x +\", c, \"= 0\")\n",
    "    if a == 0:\n",
    "        if b == 0:\n",
    "            if c == 0:\n",
    "                print (\"Tout r ́eel est solution\")\n",
    "            else :\n",
    "                print (\"Aucune solution\")\n",
    "        else :\n",
    "            x = (-c * 1.0) / b\n",
    "            print (\"Une solution :\", xpolynome(a, b, c, x))\n",
    "    else :\n",
    "        d = b * b - 4 * a * c\n",
    "    if(d == 0): \n",
    "        x = -b / (2.0 * a) \n",
    "        print (\"Une solution :\", xpolynome(a, b, c, x) )\n",
    "    elif(d > 0):\n",
    "        r = sqrt(d) \n",
    "        x1 = (-b - r) / (2.0 * a) \n",
    "        x2 = (-b + r) / (2.0 * a)\n",
    "        print (\"Deux solutions :\", x1, \"et\", x2)\n",
    "        polynome(a, b, c, x1) \n",
    "        polynome(a, b, c, x2)\n",
    "    else :\n",
    "        print (\"Aucune solution\")\n",
    "\n",
    "print(racine(0,1,1))"
   ]
  },
  {
   "cell_type": "markdown",
   "metadata": {},
   "source": [
    "#Introduction a Sympy \n",
    " \n",
    "Le module Sympy  permet de faire du calcul symbolique. Par exemple, le nombre √8 est représenté par Python comme un flottant"
   ]
  },
  {
   "cell_type": "code",
   "execution_count": 14,
   "metadata": {},
   "outputs": [
    {
     "data": {
      "text/plain": [
       "2.8284271247461903"
      ]
     },
     "execution_count": 14,
     "metadata": {},
     "output_type": "execute_result"
    }
   ],
   "source": [
    "import math\n",
    "math.sqrt(8)"
   ]
  },
  {
   "cell_type": "markdown",
   "metadata": {},
   "source": [
    "L’avantage de Sympy est que √8 est gardé en tant racine et même automatiquement simplifié"
   ]
  },
  {
   "cell_type": "code",
   "execution_count": 18,
   "metadata": {},
   "outputs": [
    {
     "data": {
      "image/png": "[encoded data removed]",
      "text/latex": [
       "$\\displaystyle 2 \\sqrt{2}$"
      ],
      "text/plain": [
       "2⋅√2"
      ]
     },
     "execution_count": 18,
     "metadata": {},
     "output_type": "execute_result"
    }
   ],
   "source": [
    "from sympy import *\n",
    "\n",
    "init_printing()\n",
    "sqrt(8)"
   ]
  },
  {
   "cell_type": "markdown",
   "metadata": {},
   "source": [
    "Ex3 : Introduction\n",
    "Avant de pourvoir utiliser des variables symboliques, il faut les déclarer comme symboles:"
   ]
  },
  {
   "cell_type": "code",
   "execution_count": 19,
   "metadata": {},
   "outputs": [
    {
     "data": {
      "image/png": "[encoded data removed]",
      "text/latex": [
       "$\\displaystyle \\frac{\\varepsilon}{4} + x^{2} + 4 x + 4 y$"
      ],
      "text/plain": [
       "\\varepsilon    2            \n",
       "─────────── + x  + 4⋅x + 4⋅y\n",
       "     4                      "
      ]
     },
     "execution_count": 19,
     "metadata": {},
     "output_type": "execute_result"
    }
   ],
   "source": [
    "x = sp.Symbol(\"x\")# definit le symbole x\n",
    "y = sp.Symbol(\"y\", real=True)# définit la variable réelle y\n",
    "e = sp.Symbol(r\"\\varepsilon\", real=True, positive=True)# définit epsilon positif\n",
    "\n",
    "x + 2*y + e/4 + x**2 + 3*x + 2*y"
   ]
  },
  {
   "cell_type": "markdown",
   "metadata": {},
   "source": [
    "1. Lire la doc de la fonction solve et l’utiliser pour calculer les racines d’un polynôme général de degré deux, puis de degré trois\n",
    "2. Lire la documentation des fonctions evalf et N pour évaluer l’expression π^2/4\n",
    "3. Déterminer la partie réelle et imaginaire de l’expression : (1+i√3)^20 / 1+i\n",
    "4. Lire la documentation de la fonction diff et calculer la dérivée de xe^x^x^x par rapport à x.\n",
    "5. Calculer avec Sympy les limites suivantes :\n",
    " * L1= lim x→0 sin(x)/x,\n",
    " * L2= lim x→0 sin(1/x),"
   ]
  },
  {
   "cell_type": "markdown",
   "metadata": {},
   "source": [
    "1) Lire la doc de la fonction solve et l’utiliser pour calculer les racines d’un polynôme général de degré deux, puis de degré trois"
   ]
  },
  {
   "cell_type": "code",
   "execution_count": 1,
   "metadata": {},
   "outputs": [
    {
     "data": {
      "image/png": "[encoded data removed]",
      "text/latex": [
       "$$\\left [ -4, \\quad \\frac{1}{2}\\right ]$$"
      ],
      "text/plain": [
       "[-4, 1/2]"
      ]
     },
     "execution_count": 1,
     "metadata": {},
     "output_type": "execute_result"
    }
   ],
   "source": [
    "from sympy import *\n",
    "x = Symbol('x')\n",
    "init_printing()\n",
    "solve(2*x**2 + 7*x -4, x)"
   ]
  },
  {
   "cell_type": "code",
   "execution_count": 2,
   "metadata": {},
   "outputs": [
    {
     "data": {
      "image/png": "[encoded data removed]",
      "text/latex": [
       "$$\\left [ 1, \\quad - \\frac{5}{6} - \\frac{\\sqrt{47} i}{6}, \\quad - \\frac{5}{6} + \\frac{\\sqrt{47} i}{6}\\right ]$$"
      ],
      "text/plain": [
       "⎡     5   √47⋅ⅈ    5   √47⋅ⅈ⎤\n",
       "⎢1, - ─ - ─────, - ─ + ─────⎥\n",
       "⎣     6     6      6     6  ⎦"
      ]
     },
     "execution_count": 2,
     "metadata": {},
     "output_type": "execute_result"
    }
   ],
   "source": [
    "from sympy import *\n",
    "x = Symbol('x')\n",
    "init_printing()\n",
    "solve(3*x**3 + 2*x**2 + x -6, x)"
   ]
  },
  {
   "cell_type": "markdown",
   "metadata": {},
   "source": [
    "2) Lire la documentation des fonctions evalf et N pour évaluer l’expression π^2/4"
   ]
  },
  {
   "cell_type": "code",
   "execution_count": 82,
   "metadata": {},
   "outputs": [
    {
     "data": {
      "image/png": "[encoded data removed]",
      "text/latex": [
       "$$1.77245385090552$$"
      ],
      "text/plain": [
       "1.77245385090552"
      ]
     },
     "execution_count": 82,
     "metadata": {},
     "output_type": "execute_result"
    }
   ],
   "source": [
    "from sympy import *\n",
    "init_printing()\n",
    "(pi**(2/4)).evalf()"
   ]
  },
  {
   "cell_type": "markdown",
   "metadata": {},
   "source": [
    "3) Déterminer la partie réelle et imaginaire de l’expression : (1+i√3)^20 / 1+i\n",
    "1. Réel\n",
    "2. Imaginaire"
   ]
  },
  {
   "cell_type": "code",
   "execution_count": 3,
   "metadata": {},
   "outputs": [
    {
     "data": {
      "image/png": "[encoded data removed]",
      "text/latex": [
       "$$1121931 i^{18} + 57218481 i^{16} + 686621772 i^{14} + 2975361012 i^{12} + 5454828522 i^{10} + 4463041518 i^{8} + 1602117468 i^{6} + 228873924 i^{4} + 10097379 i^{2} + 59049$$"
      ],
      "text/plain": [
       "         18             16              14               12               10  \n",
       "1121931⋅i   + 57218481⋅i   + 686621772⋅i   + 2975361012⋅i   + 5454828522⋅i   +\n",
       "\n",
       "             8               6              4             2        \n",
       " 4463041518⋅i  + 1602117468⋅i  + 228873924⋅i  + 10097379⋅i  + 59049"
      ]
     },
     "execution_count": 3,
     "metadata": {},
     "output_type": "execute_result"
    }
   ],
   "source": [
    "from sympy import *\n",
    "i = Symbol('i', imaginary = True)\n",
    "init_printing()\n",
    "re( ( (1+i) * sqrt(3) )**20 / (1+i) )"
   ]
  },
  {
   "cell_type": "code",
   "execution_count": 4,
   "metadata": {},
   "outputs": [
    {
     "data": {
      "image/png": "[encoded data removed]",
      "text/latex": [
       "$$- 59049 i i^{19} - 10097379 i i^{17} - 228873924 i i^{15} - 1602117468 i i^{13} - 4463041518 i i^{11} - 5454828522 i i^{9} - 2975361012 i i^{7} - 686621772 i i^{5} - 57218481 i i^{3} - 1121931 i i$$"
      ],
      "text/plain": [
       "           19               17                15                 13           \n",
       "- 59049⋅ⅈ⋅i   - 10097379⋅ⅈ⋅i   - 228873924⋅ⅈ⋅i   - 1602117468⋅ⅈ⋅i   - 44630415\n",
       "\n",
       "      11                 9                 7                5               3 \n",
       "18⋅ⅈ⋅i   - 5454828522⋅ⅈ⋅i  - 2975361012⋅ⅈ⋅i  - 686621772⋅ⅈ⋅i  - 57218481⋅ⅈ⋅i  \n",
       "\n",
       "             \n",
       "- 1121931⋅ⅈ⋅i"
      ]
     },
     "execution_count": 4,
     "metadata": {},
     "output_type": "execute_result"
    }
   ],
   "source": [
    "from sympy import *\n",
    "i = Symbol('i', imaginary = True)\n",
    "init_printing()\n",
    "im( ( (1+i) * sqrt(3) )**20 / (1+i) )"
   ]
  },
  {
   "cell_type": "markdown",
   "metadata": {},
   "source": [
    "4) Lire la documentation de la fonction diff et calculer la dérivée de xe^x^x^x par rapport à x."
   ]
  },
  {
   "cell_type": "code",
   "execution_count": 19,
   "metadata": {},
   "outputs": [
    {
     "data": {
      "image/png": "[encoded data removed]",
      "text/latex": [
       "$$x x^{x^{x^{x}}} \\left(x^{x^{x}} \\left(x^{x} \\left(\\log{\\left (x \\right )} + 1\\right) \\log{\\left (x \\right )} + \\frac{x^{x}}{x}\\right) \\log{\\left (x \\right )} + \\frac{x^{x^{x}}}{x}\\right) e^{x^{x^{x^{x}}}} + e^{x^{x^{x^{x}}}}$$"
      ],
      "text/plain": [
       "                                                                 ⎛ ⎛ ⎛ x⎞⎞⎞   \n",
       "   ⎛ ⎛ x⎞⎞ ⎛                                              ⎛ x⎞⎞  ⎜ ⎜ ⎝x ⎠⎟⎟   \n",
       "   ⎜ ⎝x ⎠⎟ ⎜ ⎛ x⎞ ⎛                          x⎞           ⎝x ⎠⎟  ⎜ ⎝x    ⎠⎟   \n",
       "   ⎝x    ⎠ ⎜ ⎝x ⎠ ⎜ x                       x ⎟          x    ⎟  ⎝x       ⎠   \n",
       "x⋅x       ⋅⎜x    ⋅⎜x ⋅(log(x) + 1)⋅log(x) + ──⎟⋅log(x) + ─────⎟⋅ℯ           + \n",
       "           ⎝      ⎝                         x ⎠            x  ⎠               \n",
       "\n",
       " ⎛ ⎛ ⎛ x⎞⎞⎞\n",
       " ⎜ ⎜ ⎝x ⎠⎟⎟\n",
       " ⎜ ⎝x    ⎠⎟\n",
       " ⎝x       ⎠\n",
       "ℯ          \n",
       "           "
      ]
     },
     "execution_count": 19,
     "metadata": {},
     "output_type": "execute_result"
    }
   ],
   "source": [
    "from sympy import *\n",
    "x = Symbol('x')\n",
    "init_printing()\n",
    "diff(x*exp(x**x**x**x),x)"
   ]
  },
  {
   "cell_type": "markdown",
   "metadata": {},
   "source": [
    "5) Calculer avec Sympy les limites\n",
    "1. L1= lim x→0 sin(x)/x\n",
    "2. L2= lim x→0 sin(1/x)"
   ]
  },
  {
   "cell_type": "code",
   "execution_count": 20,
   "metadata": {},
   "outputs": [
    {
     "data": {
      "image/png": "[encoded data removed]",
      "text/latex": [
       "$$1$$"
      ],
      "text/plain": [
       "1"
      ]
     },
     "execution_count": 20,
     "metadata": {},
     "output_type": "execute_result"
    }
   ],
   "source": [
    "from sympy import *\n",
    "x = Symbol('x')\n",
    "init_printing()\n",
    "limit(sin(x)/x,x,0)"
   ]
  },
  {
   "cell_type": "code",
   "execution_count": 8,
   "metadata": {},
   "outputs": [
    {
     "data": {
      "image/png": "[encoded data removed]",
      "text/latex": [
       "$$\\langle -1, 1\\rangle$$"
      ],
      "text/plain": [
       "<-1, 1>"
      ]
     },
     "execution_count": 8,
     "metadata": {},
     "output_type": "execute_result"
    }
   ],
   "source": [
    "from sympy import *\n",
    "x = Symbol('x')\n",
    "init_printing()\n",
    "limit(sin(1/x),x,0)"
   ]
  },
  {
   "cell_type": "markdown",
   "metadata": {},
   "source": [
    "Ex 4 : Application\n",
    "Le but est d’utiliser Sympy pour résoudre symboliquement différents problèmes mathématiques\n",
    "1. Déterminer le nombre de zéro que contient l’entier 123!\n",
    "2. Déterminer le rapport entre la hauteur et le rayon d’un cylindre de manière à minimiser son aire à volume fixé\n",
    "3. Pour x,y∈R tels que xy <1, démontrer que arctan(x) + arctan(y) = arctan(x+y/1−xy)\n",
    "\n",
    "    "
   ]
  },
  {
   "cell_type": "code",
   "execution_count": 24,
   "metadata": {},
   "outputs": [
    {
     "data": {
      "image/png": "[encoded data removed]",
      "text/latex": [
       "$$42$$"
      ],
      "text/plain": [
       "42"
      ]
     },
     "execution_count": 24,
     "metadata": {},
     "output_type": "execute_result"
    }
   ],
   "source": [
    "a = str(factorial(123))\n",
    "a.count(\"0\")"
   ]
  },
  {
   "cell_type": "code",
   "execution_count": 32,
   "metadata": {},
   "outputs": [
    {
     "ename": "ValueError",
     "evalue": "\nCan't calculate 1st derivative wrt 2.00000000000000.",
     "output_type": "error",
     "traceback": [
      "\u001b[1;31m---------------------------------------------------------------------------\u001b[0m",
      "\u001b[1;31mValueError\u001b[0m                                Traceback (most recent call last)",
      "\u001b[1;32m<ipython-input-32-a162fb5772f4>\u001b[0m in \u001b[0;36m<module>\u001b[1;34m()\u001b[0m\n\u001b[0;32m      1\u001b[0m \u001b[1;32mfrom\u001b[0m \u001b[0msympy\u001b[0m \u001b[1;32mimport\u001b[0m \u001b[1;33m*\u001b[0m\u001b[1;33m\u001b[0m\u001b[0m\n\u001b[0;32m      2\u001b[0m \u001b[0mh\u001b[0m \u001b[1;33m=\u001b[0m \u001b[0mSymbol\u001b[0m\u001b[1;33m(\u001b[0m\u001b[1;34m'h'\u001b[0m\u001b[1;33m)\u001b[0m\u001b[1;33m\u001b[0m\u001b[0m\n\u001b[1;32m----> 3\u001b[1;33m \u001b[0mdiff\u001b[0m\u001b[1;33m(\u001b[0m\u001b[1;33m(\u001b[0m\u001b[1;36m1\u001b[0m\u001b[1;33m/\u001b[0m\u001b[0mr\u001b[0m\u001b[1;33m)\u001b[0m\u001b[1;33m+\u001b[0m\u001b[1;33m(\u001b[0m\u001b[1;36m1\u001b[0m\u001b[1;33m/\u001b[0m\u001b[0mh\u001b[0m\u001b[1;33m)\u001b[0m\u001b[1;33m,\u001b[0m\u001b[0mr\u001b[0m\u001b[1;33m)\u001b[0m\u001b[1;33m\u001b[0m\u001b[0m\n\u001b[0m",
      "\u001b[1;32mC:\\ProgramData\\Anaconda3\\lib\\site-packages\\sympy\\core\\function.py\u001b[0m in \u001b[0;36mdiff\u001b[1;34m(f, *symbols, **kwargs)\u001b[0m\n\u001b[0;32m   1835\u001b[0m     \u001b[1;32mexcept\u001b[0m \u001b[0mAttributeError\u001b[0m\u001b[1;33m:\u001b[0m\u001b[1;33m\u001b[0m\u001b[0m\n\u001b[0;32m   1836\u001b[0m         \u001b[1;32mpass\u001b[0m\u001b[1;33m\u001b[0m\u001b[0m\n\u001b[1;32m-> 1837\u001b[1;33m     \u001b[1;32mreturn\u001b[0m \u001b[0mDerivative\u001b[0m\u001b[1;33m(\u001b[0m\u001b[0mf\u001b[0m\u001b[1;33m,\u001b[0m \u001b[1;33m*\u001b[0m\u001b[0msymbols\u001b[0m\u001b[1;33m,\u001b[0m \u001b[1;33m**\u001b[0m\u001b[0mkwargs\u001b[0m\u001b[1;33m)\u001b[0m\u001b[1;33m\u001b[0m\u001b[0m\n\u001b[0m\u001b[0;32m   1838\u001b[0m \u001b[1;33m\u001b[0m\u001b[0m\n\u001b[0;32m   1839\u001b[0m \u001b[1;33m\u001b[0m\u001b[0m\n",
      "\u001b[1;32mC:\\ProgramData\\Anaconda3\\lib\\site-packages\\sympy\\core\\function.py\u001b[0m in \u001b[0;36m__new__\u001b[1;34m(cls, expr, *variables, **assumptions)\u001b[0m\n\u001b[0;32m   1111\u001b[0m                 \u001b[0mordinal\u001b[0m \u001b[1;33m=\u001b[0m \u001b[1;34m'st'\u001b[0m \u001b[1;32mif\u001b[0m \u001b[0mlast_digit\u001b[0m \u001b[1;33m==\u001b[0m \u001b[1;36m1\u001b[0m \u001b[1;32melse\u001b[0m \u001b[1;34m'nd'\u001b[0m \u001b[1;32mif\u001b[0m \u001b[0mlast_digit\u001b[0m \u001b[1;33m==\u001b[0m \u001b[1;36m2\u001b[0m \u001b[1;32melse\u001b[0m \u001b[1;34m'rd'\u001b[0m \u001b[1;32mif\u001b[0m \u001b[0mlast_digit\u001b[0m \u001b[1;33m==\u001b[0m \u001b[1;36m3\u001b[0m \u001b[1;32melse\u001b[0m \u001b[1;34m'th'\u001b[0m\u001b[1;33m\u001b[0m\u001b[0m\n\u001b[0;32m   1112\u001b[0m                 raise ValueError(filldedent('''\n\u001b[1;32m-> 1113\u001b[1;33m                 Can\\'t calculate %s%s derivative wrt %s.''' % (count, ordinal, v)))\n\u001b[0m\u001b[0;32m   1114\u001b[0m \u001b[1;33m\u001b[0m\u001b[0m\n\u001b[0;32m   1115\u001b[0m             \u001b[1;32mif\u001b[0m \u001b[0mall_zero\u001b[0m \u001b[1;32mand\u001b[0m \u001b[1;32mnot\u001b[0m \u001b[0mcount\u001b[0m \u001b[1;33m==\u001b[0m \u001b[1;36m0\u001b[0m\u001b[1;33m:\u001b[0m\u001b[1;33m\u001b[0m\u001b[0m\n",
      "\u001b[1;31mValueError\u001b[0m: \nCan't calculate 1st derivative wrt 2.00000000000000."
     ]
    }
   ],
   "source": [
    "from sympy import *\n",
    "h = Symbol('h')\n",
    "diff((1/r)+(1/h),r)\n",
    "solve()"
   ]
  },
  {
   "cell_type": "code",
   "execution_count": null,
   "metadata": {},
   "outputs": [],
   "source": []
  }
 ],
 "metadata": {
  "kernelspec": {
   "display_name": "Python 3",
   "language": "python",
   "name": "python3"
  },
  "language_info": {
   "codemirror_mode": {
    "name": "ipython",
    "version": 3
   },
   "file_extension": ".py",
   "mimetype": "text/x-python",
   "name": "python",
   "nbconvert_exporter": "python",
   "pygments_lexer": "ipython3",
   "version": "3.7.0"
  }
 },
 "nbformat": 4,
 "nbformat_minor": 4
}
